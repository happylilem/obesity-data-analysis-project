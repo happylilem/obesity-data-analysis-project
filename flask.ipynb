{
 "cells": [
  {
   "cell_type": "code",
   "execution_count": null,
   "id": "71b22978",
   "metadata": {},
   "outputs": [],
   "source": [
    "import numpy as np\n",
    "from flask import Flask,request,render_template\n",
    "import pandas as pd\n",
    "from sklearn.neighbors import KNeighborsClassifier\n",
    "from sklearn.preprocessing import LabelEncoder,StandardScaler\n",
    "\n",
    "app = Flask(__name__)\n",
    "\n",
    "@app.route(\"/home/\")\n",
    "def home():\n",
    "    return render_template(\"home.html\",img_path = \"/static/img/obesity.png\",text = \"Click buttons to show charts\")\n",
    "\n",
    "@app.route(\"/dist/\")\n",
    "def dist():\n",
    "    return render_template(\"home.html\", img_path = \"/static/img/distribution.png\",text = \"Demographics - distribution histograms\")\n",
    "\n",
    "@app.route(\"/pie/\")\n",
    "def pie():\n",
    "    return render_template(\"home.html\", img_path = \"/static/img/pies.png\",text = \"Demographics - Pie charts\")\n",
    "\n",
    "@app.route(\"/gender/\")\n",
    "def gender():\n",
    "    return render_template(\"home.html\", img_path = \"/static/img/gender.png\",text = \"The relationship between obesity and gender\")\n",
    "\n",
    "@app.route(\"/alochol/\")\n",
    "def alochol():\n",
    "    return render_template(\"home.html\", img_path = \"/static/img/alcohol.png\",text = \"The relationship between obesity and alcohol\")\n",
    "\n",
    "@app.route(\"/heatmap/\")\n",
    "def heatmap():\n",
    "    return render_template(\"home.html\", img_path = \"/static/img/heatmap.png\",text = \"The heatmap of variables\")\n",
    "\n",
    "@app.route(\"/scatter/\")\n",
    "def scatter():\n",
    "    return render_template(\"home.html\", img_path = \"/static/img/scatter.png\",text = \"Data display after dimensionality reduction\")\n",
    "\n",
    "@app.route(\"/to_predict/\")\n",
    "def to_predict():\n",
    "    return render_template(\"predict.html\")\n",
    "\n",
    "@app.route(\"/predict/\")\n",
    "def predict():\n",
    "    age = request.args.get(\"age\")\n",
    "    sex = request.args.get(\"gender\")\n",
    "    height = request.args.get(\"height\")\n",
    "    weight = request.args.get(\"weight\")\n",
    "    food = request.args.get(\"food\")\n",
    "    smoke = request.args.get(\"smoke\")\n",
    "    sports = request.args.get(\"sports\")\n",
    "    datasets = pd.read_csv(\"ObesityDataSet_raw_and_data_sinthetic.csv\")\n",
    "    data = datasets[[\"Gender\",\"Age\",\"Height\",\"Weight\",\"FAVC\",\"SMOKE\",\"FAF\"]]\n",
    "    labels = datasets[\"NObeyesdad\"]\n",
    "    labels_ = np.unique(labels)\n",
    "    label_enc = LabelEncoder()\n",
    "    labels = label_enc.fit_transform(labels)\n",
    "    data[\"Gender\"] = data[\"Gender\"].apply(lambda x:0 if x == \"Male\" else 1)\n",
    "    data[\"FAVC\"] = data[\"FAVC\"].apply(lambda x:0 if x == \"no\" else 1)\n",
    "    data[\"SMOKE\"] = data[\"SMOKE\"].apply(lambda x:0 if x == \"no\" else 1)\n",
    "    stand_scaler = StandardScaler()\n",
    "    stand_scaler.fit(data)\n",
    "    data = stand_scaler.transform(data)\n",
    "    model = KNeighborsClassifier(n_neighbors=10)\n",
    "    model.fit(data,labels)\n",
    "    datasets_test = np.array([[sex,age,height,weight,food,smoke,sports]])\n",
    "    datasets_test = stand_scaler.transform(datasets_test)\n",
    "    pred = model.predict(datasets_test)\n",
    "    print(\"--->\",labels_[pred[0]])\n",
    "    return render_template(\"predict.html\",pred = labels_[pred],img_path = \"/static/img/tree.png\")\n",
    "\n",
    "\n",
    "# if __name__ == '__main__':\n",
    "app.run()\n"
   ]
  },
  {
   "cell_type": "code",
   "execution_count": null,
   "id": "f35e4fb8",
   "metadata": {},
   "outputs": [],
   "source": []
  }
 ],
 "metadata": {
  "kernelspec": {
   "display_name": "Python 3 (ipykernel)",
   "language": "python",
   "name": "python3"
  },
  "language_info": {
   "codemirror_mode": {
    "name": "ipython",
    "version": 3
   },
   "file_extension": ".py",
   "mimetype": "text/x-python",
   "name": "python",
   "nbconvert_exporter": "python",
   "pygments_lexer": "ipython3",
   "version": "3.9.13"
  },
  "varInspector": {
   "cols": {
    "lenName": 16,
    "lenType": 16,
    "lenVar": 40
   },
   "kernels_config": {
    "python": {
     "delete_cmd_postfix": "",
     "delete_cmd_prefix": "del ",
     "library": "var_list.py",
     "varRefreshCmd": "print(var_dic_list())"
    },
    "r": {
     "delete_cmd_postfix": ") ",
     "delete_cmd_prefix": "rm(",
     "library": "var_list.r",
     "varRefreshCmd": "cat(var_dic_list()) "
    }
   },
   "types_to_exclude": [
    "module",
    "function",
    "builtin_function_or_method",
    "instance",
    "_Feature"
   ],
   "window_display": false
  }
 },
 "nbformat": 4,
 "nbformat_minor": 5
}
